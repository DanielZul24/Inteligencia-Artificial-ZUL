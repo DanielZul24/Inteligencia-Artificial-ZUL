{
  "nbformat": 4,
  "nbformat_minor": 0,
  "metadata": {
    "colab": {
      "provenance": [],
      "authorship_tag": "ABX9TyOhzVE1fQigDZPLcASJ1+k2",
      "include_colab_link": true
    },
    "kernelspec": {
      "name": "python3",
      "display_name": "Python 3"
    },
    "language_info": {
      "name": "python"
    }
  },
  "cells": [
    {
      "cell_type": "markdown",
      "metadata": {
        "id": "view-in-github",
        "colab_type": "text"
      },
      "source": [
        "<a href=\"https://colab.research.google.com/github/DanielZul24/Inteligencia-Artificial-ZUL/blob/main/Evaluaci%C3%B3n_AND_y_OR.ipynb\" target=\"_parent\"><img src=\"https://colab.research.google.com/assets/colab-badge.svg\" alt=\"Open In Colab\"/></a>"
      ]
    },
    {
      "cell_type": "code",
      "execution_count": null,
      "metadata": {
        "id": "WjqIDcUhpOPJ"
      },
      "outputs": [],
      "source": []
    },
    {
      "cell_type": "markdown",
      "source": [
        "Crear un notebook en colab a partir del programa base de la compuerta and. modificar para que funcione con las compuertas and y or.\n",
        "Criterios de aceptacion\n",
        "-El progrma va a solicitar los valores del datashit para x0 y x1, por lo cual,la impresion de resultados debe mostrar la compuerta and y la compuerta or (y).\n",
        "Menu interactivo donde pregunte si quiero introducir otro datashit"
      ],
      "metadata": {
        "id": "keCuyIklp3xh"
      }
    },
    {
      "cell_type": "code",
      "source": [
        "# Se crea una funcion principal para calcular las compuertas\n",
        "def c_compuertas():\n",
        "    # Se crean las variables en las cuales se almacenaran los valores\n",
        "    # ingresados por teclado, seran de tipo entero (int)\n",
        "    x = [int(input(\"Ingrese el valor para x[0] (0 o 1): \")),\n",
        "         int(input(\"Ingrese el valor para x[1] (0 o 1): \"))]\n",
        "\n",
        "\n",
        "    # Pesos para las compuertas AND y OR (mismos en este caso)\n",
        "    w_and = [1, 1]  # Pesos para la compuerta AND, estos pesos representan que ambas entradas deben ser 1 para que el resultado sea 1\n",
        "    w_or = [1, 1]   # Pesos para la compuerta OR, es igual 1,1 ya que al menos uno de los valores necesita ser 1\n",
        "\n",
        "    # Inicializar las sumas\n",
        "    s_and = 0\n",
        "    s_or = 0\n",
        "\n",
        "    # Calcular suma ponderada para AND y OR\n",
        "    for i in range(2):\n",
        "        s_and += x[i] * w_and[i]\n",
        "        s_or += x[i] * w_or[i]\n",
        "\n",
        "    # Determinar el resultado de la compuerta AND  y La condición s == 2 indica que si ambas entradas son 1, la suma será 2, lo cual hace que y sea 1.\n",
        "    y_and = 1 if s_and == 2 else 0  # AND: solo si ambas entradas son 1\n",
        "\n",
        "    # Determinar el resultado de la compuerta OR, La condición s > 0 indica que si al menos una de las entradas es 1, la suma será mayor que 0 y el resultado será 1\n",
        "    y_or = 1 if s_or > 0 else 0  # OR: si al menos una entrada es 1\n",
        "\n",
        "    # Mostrar resultados\n",
        "    print(x[0], 'AND', x[1], '=', y_and)\n",
        "    print(x[0], 'OR', x[1], '=', y_or)\n",
        "\n",
        "# Bucle para repetir la operación si el usuario lo desea\n",
        "while True:\n",
        "    # Ejecuta nuevamente la funcion para repetir el proceso\n",
        "    c_compuertas()\n",
        "\n",
        "    # Pregunta si el usuario desea continuar ingresando mas datos\n",
        "    continuar = input(\"¿Desea continuar? (s/n): \").lower()\n",
        "\n",
        "    # Si el usuario responde 'n', salimos del bucle, si responde 's', el programa continua\n",
        "    if continuar != 's':\n",
        "        print(\"Fin del programa.\")\n",
        "        break\n",
        "\n",
        "\n",
        "\n"
      ],
      "metadata": {
        "colab": {
          "base_uri": "https://localhost:8080/"
        },
        "id": "MOofLoGpqcbK",
        "outputId": "784a22ac-79e1-4bfa-ba0b-1bf8df56b6cf"
      },
      "execution_count": 1,
      "outputs": [
        {
          "output_type": "stream",
          "name": "stdout",
          "text": [
            "Ingrese el valor para x[0] (0 o 1): 0\n",
            "Ingrese el valor para x[1] (0 o 1): 0\n",
            "0 AND 0 = 0\n",
            "0 OR 0 = 0\n",
            "¿Desea continuar? (s/n): s\n",
            "Ingrese el valor para x[0] (0 o 1): 1\n",
            "Ingrese el valor para x[1] (0 o 1): 1\n",
            "1 AND 1 = 1\n",
            "1 OR 1 = 1\n",
            "¿Desea continuar? (s/n): s\n",
            "Ingrese el valor para x[0] (0 o 1): 1\n",
            "Ingrese el valor para x[1] (0 o 1): 0\n",
            "1 AND 0 = 0\n",
            "1 OR 0 = 1\n",
            "¿Desea continuar? (s/n): s\n",
            "Ingrese el valor para x[0] (0 o 1): 0\n",
            "Ingrese el valor para x[1] (0 o 1): 1\n",
            "0 AND 1 = 0\n",
            "0 OR 1 = 1\n",
            "¿Desea continuar? (s/n): n\n",
            "Fin del programa.\n"
          ]
        }
      ]
    }
  ]
}