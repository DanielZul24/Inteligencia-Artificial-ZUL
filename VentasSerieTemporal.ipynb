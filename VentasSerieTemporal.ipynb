{
  "nbformat": 4,
  "nbformat_minor": 0,
  "metadata": {
    "colab": {
      "provenance": [],
      "authorship_tag": "ABX9TyOjAC7UpefEDn2UFb5mEPJw",
      "include_colab_link": true
    },
    "kernelspec": {
      "name": "python3",
      "display_name": "Python 3"
    },
    "language_info": {
      "name": "python"
    }
  },
  "cells": [
    {
      "cell_type": "markdown",
      "metadata": {
        "id": "view-in-github",
        "colab_type": "text"
      },
      "source": [
        "<a href=\"https://colab.research.google.com/github/DanielZul24/Inteligencia-Artificial-ZUL/blob/main/VentasSerieTemporal.ipynb\" target=\"_parent\"><img src=\"https://colab.research.google.com/assets/colab-badge.svg\" alt=\"Open In Colab\"/></a>"
      ]
    },
    {
      "cell_type": "code",
      "source": [
        "# Paso 1: Instalar dependencias\n",
        "!pip install tensorflowjs\n",
        "!pip install tensorflow==2.16.0rc0\n",
        "\n",
        "# Paso 2: Configurar Keras y TensorFlow\n",
        "import os\n",
        "os.environ[\"TF_USE_LEGACY_KERAS\"] = \"1\"\n",
        "!mkdir ventas_modelo\n",
        "\n",
        "import numpy as np\n",
        "import tensorflow as tf\n",
        "from tensorflow.keras.models import Sequential\n",
        "from tensorflow.keras.layers import Dense\n",
        "\n",
        "# Datos de ventas de las últimas 4 semanas\n",
        "ventas = np.array([\n",
        "    [100, 150, 200, 250, 300],  # Semana 1\n",
        "    [120, 170, 220, 270, 320],  # Semana 2\n",
        "    [110, 160, 210, 260, 310],  # Semana 3\n",
        "    [130, 180, 230, 280, 330]   # Semana 4\n",
        "])\n",
        "\n",
        "# Preparar los datos de entrada (X) y salida (y)\n",
        "X = ventas  # Usamos todas las semanas como entrada\n",
        "\n",
        "\n",
        "y = np.array([\n",
        "    [140, 190, 240, 290, 340],  # Semana 1\n",
        "    [140, 190, 240, 290, 340],  # Semana 2\n",
        "    [140, 190, 240, 290, 340],  # Semana 3\n",
        "    [140, 190, 240, 290, 340]   # Semana 4\n",
        "])\n",
        "\n",
        "# Construcción del modelo\n",
        "modelo = Sequential()\n",
        "modelo.add(Dense(10, input_dim=5, activation='relu'))  # Capa oculta\n",
        "modelo.add(Dense(5))  # Capa de salida (5 días)\n",
        "\n",
        "# Compilar el modelo\n",
        "modelo.compile(optimizer='adam', loss='mean_squared_error')\n",
        "\n",
        "# Entrenar el modelo\n",
        "modelo.fit(X, y, epochs=1000, verbose=0)\n",
        "\n",
        "# Realizar predicciones\n",
        "predicciones = modelo.predict(X)  # Usamos todas las semanas para predecir\n",
        "\n",
        "# Convertir predicciones a una lista\n",
        "predicciones = predicciones.flatten()\n",
        "\n",
        "# Mostrar resultados\n",
        "print(\"Predicciones para la próxima semana:\")\n",
        "for dia, valor in zip([\"Lunes\", \"Martes\", \"Miércoles\", \"Jueves\", \"Viernes\"], predicciones):\n",
        "    print(f\"{dia}: {valor:.2f} unidades\")\n",
        "\n"
      ],
      "metadata": {
        "id": "qzFGjgW8laWX"
      },
      "execution_count": null,
      "outputs": []
    },
    {
      "cell_type": "code",
      "source": [],
      "metadata": {
        "id": "u6M0mJhINlQL"
      },
      "execution_count": null,
      "outputs": []
    },
    {
      "cell_type": "code",
      "source": [
        "# Construcción del modelo más complejo\n",
        "modelo = Sequential()\n",
        "modelo.add(Dense(32, input_dim=5, activation='relu'))  # Más neuronas en la capa oculta\n",
        "modelo.add(Dense(16, activation='relu'))  # Añadir otra capa oculta\n",
        "modelo.add(Dense(5))  # Capa de salida (5 días)\n",
        "\n",
        "# Compilar el modelo\n",
        "modelo.compile(optimizer='adam', loss='mean_squared_error')\n",
        "\n",
        "# Entrenar el modelo se ajustó a 6000 para una prediccion mas precisa.\n",
        "modelo.fit(X, y, epochs=6000, verbose=0)  # Aumentar el número de épocas\n",
        "\n",
        "# Realizar predicciones\n",
        "predicciones = modelo.predict(X)  # Usamos todas las semanas para predecir\n",
        "\n",
        "# Convertir predicciones a una lista\n",
        "predicciones = predicciones.flatten()\n",
        "\n",
        "# Mostrar resultados\n",
        "print(\"Predicciones para la próxima semana:\")\n",
        "for dia, valor in zip([\"Lunes\", \"Martes\", \"Miércoles\", \"Jueves\", \"Viernes\"], predicciones):\n",
        "    print(f\"{dia}: {valor:.2f} unidades\")\n"
      ],
      "metadata": {
        "colab": {
          "base_uri": "https://localhost:8080/"
        },
        "id": "NXB9c4xHPWF9",
        "outputId": "13c2738d-2fad-474e-cfab-e69917a16866"
      },
      "execution_count": 10,
      "outputs": [
        {
          "output_type": "stream",
          "name": "stdout",
          "text": [
            "1/1 [==============================] - 0s 288ms/step\n",
            "Predicciones para la próxima semana:\n",
            "Lunes: 140.00 unidades\n",
            "Martes: 190.00 unidades\n",
            "Miércoles: 240.01 unidades\n",
            "Jueves: 289.99 unidades\n",
            "Viernes: 340.00 unidades\n"
          ]
        }
      ]
    },
    {
      "cell_type": "code",
      "source": [
        "# Guardar el modelo en formato JSON y HDF5\n",
        "modelo_json = modelo.to_json()\n",
        "with open(\"model.json\", \"w\") as json_file:\n",
        "    json_file.write(modelo_json)\n",
        "\n",
        "# Guardar los pesos del modelo\n",
        "modelo.save_weights(\"model.h5\")"
      ],
      "metadata": {
        "id": "-IX-dEmmP5xo"
      },
      "execution_count": 5,
      "outputs": []
    }
  ]
}