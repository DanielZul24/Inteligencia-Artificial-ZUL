{
  "nbformat": 4,
  "nbformat_minor": 0,
  "metadata": {
    "colab": {
      "provenance": [],
      "authorship_tag": "ABX9TyOniYGwlsQvRAZcGQ6xdK9M",
      "include_colab_link": true
    },
    "kernelspec": {
      "name": "python3",
      "display_name": "Python 3"
    },
    "language_info": {
      "name": "python"
    }
  },
  "cells": [
    {
      "cell_type": "markdown",
      "metadata": {
        "id": "view-in-github",
        "colab_type": "text"
      },
      "source": [
        "<a href=\"https://colab.research.google.com/github/DanielZul24/Inteligencia-Artificial-ZUL/blob/main/Empresa_Consultoria.ipynb\" target=\"_parent\"><img src=\"https://colab.research.google.com/assets/colab-badge.svg\" alt=\"Open In Colab\"/></a>"
      ]
    },
    {
      "cell_type": "code",
      "execution_count": null,
      "metadata": {
        "id": "S94YhaqIvLsY"
      },
      "outputs": [],
      "source": []
    },
    {
      "cell_type": "markdown",
      "source": [
        "Una empresa de servicios a terceros ofrece proyectos de consultoría y debe llevar el control de horas trabajadas por sus empleados en diferentes proyectos. Crea un programa que calcule las horas totales trabajadas por cada empleado en varios proyectos y su costo total en función de la tarifa por hora."
      ],
      "metadata": {
        "id": "VttxdjABvTur"
      }
    },
    {
      "cell_type": "code",
      "source": [
        "# Aqui se guardarán los datos\n",
        "empleados = {}\n",
        "\n",
        "# Función para agregar un proyecto y horas trabajadas para un empleado\n",
        "def registrar_horas(empleado, proyecto, horas, tarifa_por_hora):\n",
        "    \"\"\"Registra las horas trabajadas por un empleado en un proyecto específico.\n",
        "\n",
        "\n",
        "    empleado - El nombre del empleado.\n",
        "    proyecto - El nombre del proyecto.\n",
        "    horas - Las horas trabajadas en el proyecto.\n",
        "    tarifa_por_hora - La tarifa por hora del empleado\"\"\"\n",
        "\n",
        "\n",
        "\n",
        "    if empleado not in empleados:\n",
        "        # Si el empleado no está en el registro, se agrega\n",
        "        empleados[empleado] = []\n",
        "\n",
        "    # Agregamos el proyecto, horas y tarifa al empleado\n",
        "    empleados[empleado].append({\n",
        "        'proyecto': proyecto,\n",
        "        'horas': horas,\n",
        "        'tarifa_por_hora': tarifa_por_hora\n",
        "    })\n",
        "    print(f\"Se han registrado {horas} horas en el proyecto '{proyecto}' para {empleado}.\\n\")\n",
        "\n",
        "# Función para calcular las horas totales trabajadas por un empleado\n",
        "def calcular_horas_totales(empleado):\n",
        "    \"\"\" Calcula el total de horas trabajadas por un empleado en todos sus proyectos.\n",
        "\n",
        "\n",
        "    empleado - El nombre del empleado a consultar \"\"\"\n",
        "    if empleado in empleados:\n",
        "        horas_totales = sum([p['horas'] for p in empleados[empleado]])\n",
        "        print(f\"{empleado} ha trabajado un total de {horas_totales} horas en todos sus proyectos.\\n\")\n",
        "        return horas_totales\n",
        "    else:\n",
        "        print(f\"El empleado {empleado} no está registrado.\\n\")\n",
        "        return 0\n",
        "\n",
        "# Función para calcular el costo total de un empleado en función de las horas y tarifa por hora\n",
        "def calcular_costo_total(empleado):\n",
        "    \"\"\"\n",
        "    Calcula el costo total de las horas trabajadas por un empleado en todos sus proyectos.\n",
        "\n",
        "    Parámetro:\n",
        "    empleado (str): El nombre del empleado.\n",
        "    \"\"\"\n",
        "    if empleado in empleados:\n",
        "        costo_total = sum([p['horas'] * p['tarifa_por_hora'] for p in empleados[empleado]])\n",
        "        print(f\"El costo total del trabajo de {empleado} es: ${costo_total:.2f}\\n\")\n",
        "        return costo_total\n",
        "    else:\n",
        "        print(f\"El empleado {empleado} no está registrado.\\n\")\n",
        "        return 0\n",
        "\n",
        "# Función para mostrar el menú y gestionar las acciones\n",
        "def menu():\n",
        "    \"\"\" Función principal que muestra un menú para gestionar el control de horas y costos\n",
        "    Permite registrar horas, calcular horas totales y el costo total por empleado\"\"\"\n",
        "    while True:\n",
        "        print(\"=== Empresa de Consultoría 'ZUL': Control de Horas ===\")\n",
        "        print(\"1. Registrar horas trabajadas\")\n",
        "        print(\"2. Calcular horas totales de un empleado\")\n",
        "        print(\"3. Calcular costo total de un empleado\")\n",
        "        print(\"4. Salir\")\n",
        "\n",
        "        opcion = input(\"Seleccione una opción: \")\n",
        "\n",
        "        if opcion == '1':\n",
        "            # Registrar horas trabajadas en un proyecto\n",
        "            empleado = input(\"Nombre del empleado: \")\n",
        "            proyecto = input(\"Nombre del proyecto: \")\n",
        "            horas = float(input(\"Horas trabajadas: \"))\n",
        "            tarifa_por_hora = float(input(\"Tarifa por hora del empleado: \"))\n",
        "            registrar_horas(empleado, proyecto, horas, tarifa_por_hora)\n",
        "\n",
        "        elif opcion == '2':\n",
        "            # Calcular horas totales trabajadas por un empleado\n",
        "            empleado = input(\"Nombre del empleado: \")\n",
        "            calcular_horas_totales(empleado)\n",
        "\n",
        "        elif opcion == '3':\n",
        "            # Calcular el costo total del trabajo de un empleado\n",
        "            empleado = input(\"Nombre del empleado: \")\n",
        "            calcular_costo_total(empleado)\n",
        "\n",
        "        elif opcion == '4':\n",
        "            # Salir del programa\n",
        "            print(\"Saliendo del programa...\")\n",
        "            break\n",
        "\n",
        "        else:\n",
        "            # Opción no válida\n",
        "            print(\"Opción no válida, intente de nuevo.\\n\")\n",
        "\n",
        "# Ejecutar el programa\n",
        "menu()\n"
      ],
      "metadata": {
        "colab": {
          "base_uri": "https://localhost:8080/"
        },
        "id": "0yy9cA7evUjS",
        "outputId": "9a2492ef-8118-4481-8afb-faec4d4c2d47"
      },
      "execution_count": 2,
      "outputs": [
        {
          "output_type": "stream",
          "name": "stdout",
          "text": [
            "=== Empresa de Consultoría: Control de Horas ===\n",
            "1. Registrar horas trabajadas\n",
            "2. Calcular horas totales de un empleado\n",
            "3. Calcular costo total de un empleado\n",
            "4. Salir\n",
            "Seleccione una opción: 1\n",
            "Nombre del empleado: Daniel\n",
            "Nombre del proyecto: Sitio Web\n",
            "Horas trabajadas: 48\n",
            "Tarifa por hora del empleado: 150\n",
            "Se han registrado 48.0 horas en el proyecto 'Sitio Web' para Daniel.\n",
            "\n",
            "=== Empresa de Consultoría: Control de Horas ===\n",
            "1. Registrar horas trabajadas\n",
            "2. Calcular horas totales de un empleado\n",
            "3. Calcular costo total de un empleado\n",
            "4. Salir\n",
            "Seleccione una opción: 1\n",
            "Nombre del empleado: Daniel\n",
            "Nombre del proyecto: Punto Venta\n",
            "Horas trabajadas: 36\n",
            "Tarifa por hora del empleado: 150\n",
            "Se han registrado 36.0 horas en el proyecto 'Punto Venta' para Daniel.\n",
            "\n",
            "=== Empresa de Consultoría: Control de Horas ===\n",
            "1. Registrar horas trabajadas\n",
            "2. Calcular horas totales de un empleado\n",
            "3. Calcular costo total de un empleado\n",
            "4. Salir\n",
            "Seleccione una opción: 2\n",
            "Nombre del empleado: Daniel\n",
            "Daniel ha trabajado un total de 84.0 horas en todos sus proyectos.\n",
            "\n",
            "=== Empresa de Consultoría: Control de Horas ===\n",
            "1. Registrar horas trabajadas\n",
            "2. Calcular horas totales de un empleado\n",
            "3. Calcular costo total de un empleado\n",
            "4. Salir\n",
            "Seleccione una opción: 3\n",
            "Nombre del empleado: Daniel\n",
            "El costo total del trabajo de Daniel es: $12600.00\n",
            "\n",
            "=== Empresa de Consultoría: Control de Horas ===\n",
            "1. Registrar horas trabajadas\n",
            "2. Calcular horas totales de un empleado\n",
            "3. Calcular costo total de un empleado\n",
            "4. Salir\n",
            "Seleccione una opción: 4\n",
            "Saliendo del programa...\n"
          ]
        }
      ]
    }
  ]
}