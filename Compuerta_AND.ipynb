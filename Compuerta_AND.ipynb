{
  "nbformat": 4,
  "nbformat_minor": 0,
  "metadata": {
    "colab": {
      "provenance": [],
      "authorship_tag": "ABX9TyPBBzncMWVLhjE5klzdfcwq",
      "include_colab_link": true
    },
    "kernelspec": {
      "name": "python3",
      "display_name": "Python 3"
    },
    "language_info": {
      "name": "python"
    }
  },
  "cells": [
    {
      "cell_type": "markdown",
      "metadata": {
        "id": "view-in-github",
        "colab_type": "text"
      },
      "source": [
        "<a href=\"https://colab.research.google.com/github/DanielZul24/Inteligencia-Artificial-ZUL/blob/main/Compuerta_AND.ipynb\" target=\"_parent\"><img src=\"https://colab.research.google.com/assets/colab-badge.svg\" alt=\"Open In Colab\"/></a>"
      ]
    },
    {
      "cell_type": "code",
      "execution_count": null,
      "metadata": {
        "id": "aHnCwXk87CHa"
      },
      "outputs": [],
      "source": []
    },
    {
      "cell_type": "markdown",
      "source": [
        "Compuerta Logica AND"
      ],
      "metadata": {
        "id": "RN66b7Uo7DDB"
      }
    },
    {
      "cell_type": "code",
      "source": [
        "\n",
        "# Se solicita al usuario que ingrese dos valores de entrada (0 o 1).\n",
        "# Estos valores serán las entradas para la compuerta lógica AND.\n",
        "# Se almacenan en la lista 'x' donde x[0] es la primera entrada y x[1] es la segunda entrada.\n",
        "x = [int(input(\"Ingrese el valor para x[0] (0 o 1): \")),\n",
        "     int(input(\"Ingrese el valor para x[1] (0 o 1): \"))]\n",
        "\n",
        "# Pesos para la compuerta AND\n",
        "# En una compuerta lógica AND, ambos valores deben ser 1 para que el resultado sea 1.\n",
        "# Los pesos 'w' son ambos 1, lo que significa que ambas entradas tienen la misma importancia.\n",
        "w = [1, 1]\n",
        "\n",
        "# 's' es la variable que acumulará la suma ponderada de las entradas x[0] y x[1].\n",
        "# 'y' es la variable que representará el resultado final de la operación AND.\n",
        "s = 0\n",
        "y = 0\n",
        "\n",
        "# Este bucle itera sobre las dos entradas (x[0] y x[1]).\n",
        "# En cada iteración, se calcula el producto de cada entrada x[i] por su respectivo peso w[i].\n",
        "# La suma de estos productos se acumula en 's'.\n",
        "for i in range(2):\n",
        "    s += x[i] * w[i]\n",
        "\n",
        "\n",
        "# Después de sumar las entradas ponderadas, verificamos si la suma es exactamente 2.\n",
        "# Esto se debe a que, para una compuerta AND, ambas entradas deben ser 1 para que la suma sea 2.\n",
        "# Si la suma es 2, 'y' se asigna a 1, lo que significa que la salida de la compuerta AND es 1.\n",
        "# De lo contrario, si la suma es menor que 2 (porque alguna entrada es 0), la salida será 0.\n",
        "y = 1 if s == 2 else 0\n",
        "\n",
        "\n",
        "# Se imprime el resultado de la operación AND en el formato: \"x[0] AND x[1] = y\".\n",
        "print(x[0], 'AND', x[1], '=', y)\n",
        "\n"
      ],
      "metadata": {
        "colab": {
          "base_uri": "https://localhost:8080/"
        },
        "id": "mKO9gnaj7Jo4",
        "outputId": "568dbb47-74c1-4d20-b18f-e4140abf53a0"
      },
      "execution_count": 2,
      "outputs": [
        {
          "output_type": "stream",
          "name": "stdout",
          "text": [
            "Ingrese el valor para x[0] (0 o 1): 0\n",
            "Ingrese el valor para x[1] (0 o 1): 1\n",
            "0 AND 1 = 0\n"
          ]
        }
      ]
    }
  ]
}